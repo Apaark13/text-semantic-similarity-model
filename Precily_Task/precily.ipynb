{
 "cells": [
  {
   "cell_type": "code",
   "execution_count": 1,
   "metadata": {},
   "outputs": [],
   "source": [
    "import pandas as pd\n",
    "from sklearn.feature_extraction.text import TfidfVectorizer\n",
    "from sklearn.metrics.pairwise import cosine_similarity\n",
    "import numpy as np\n",
    "from sklearn.linear_model import LinearRegression\n",
    "from sklearn.pipeline import make_pipeline\n",
    "from sklearn.model_selection import train_test_split\n",
    "\n",
    "\n"
   ]
  },
  {
   "cell_type": "code",
   "execution_count": 2,
   "metadata": {},
   "outputs": [],
   "source": [
    "df = pd.read_csv('./Precily_Text_Similarity.csv')\n",
    "\n",
    "\n"
   ]
  },
  {
   "cell_type": "code",
   "execution_count": 3,
   "metadata": {},
   "outputs": [],
   "source": [
    "vectorizer = TfidfVectorizer()\n"
   ]
  },
  {
   "cell_type": "code",
   "execution_count": 4,
   "metadata": {},
   "outputs": [
    {
     "data": {
      "text/html": [
       "<style>#sk-container-id-1 {color: black;}#sk-container-id-1 pre{padding: 0;}#sk-container-id-1 div.sk-toggleable {background-color: white;}#sk-container-id-1 label.sk-toggleable__label {cursor: pointer;display: block;width: 100%;margin-bottom: 0;padding: 0.3em;box-sizing: border-box;text-align: center;}#sk-container-id-1 label.sk-toggleable__label-arrow:before {content: \"▸\";float: left;margin-right: 0.25em;color: #696969;}#sk-container-id-1 label.sk-toggleable__label-arrow:hover:before {color: black;}#sk-container-id-1 div.sk-estimator:hover label.sk-toggleable__label-arrow:before {color: black;}#sk-container-id-1 div.sk-toggleable__content {max-height: 0;max-width: 0;overflow: hidden;text-align: left;background-color: #f0f8ff;}#sk-container-id-1 div.sk-toggleable__content pre {margin: 0.2em;color: black;border-radius: 0.25em;background-color: #f0f8ff;}#sk-container-id-1 input.sk-toggleable__control:checked~div.sk-toggleable__content {max-height: 200px;max-width: 100%;overflow: auto;}#sk-container-id-1 input.sk-toggleable__control:checked~label.sk-toggleable__label-arrow:before {content: \"▾\";}#sk-container-id-1 div.sk-estimator input.sk-toggleable__control:checked~label.sk-toggleable__label {background-color: #d4ebff;}#sk-container-id-1 div.sk-label input.sk-toggleable__control:checked~label.sk-toggleable__label {background-color: #d4ebff;}#sk-container-id-1 input.sk-hidden--visually {border: 0;clip: rect(1px 1px 1px 1px);clip: rect(1px, 1px, 1px, 1px);height: 1px;margin: -1px;overflow: hidden;padding: 0;position: absolute;width: 1px;}#sk-container-id-1 div.sk-estimator {font-family: monospace;background-color: #f0f8ff;border: 1px dotted black;border-radius: 0.25em;box-sizing: border-box;margin-bottom: 0.5em;}#sk-container-id-1 div.sk-estimator:hover {background-color: #d4ebff;}#sk-container-id-1 div.sk-parallel-item::after {content: \"\";width: 100%;border-bottom: 1px solid gray;flex-grow: 1;}#sk-container-id-1 div.sk-label:hover label.sk-toggleable__label {background-color: #d4ebff;}#sk-container-id-1 div.sk-serial::before {content: \"\";position: absolute;border-left: 1px solid gray;box-sizing: border-box;top: 0;bottom: 0;left: 50%;z-index: 0;}#sk-container-id-1 div.sk-serial {display: flex;flex-direction: column;align-items: center;background-color: white;padding-right: 0.2em;padding-left: 0.2em;position: relative;}#sk-container-id-1 div.sk-item {position: relative;z-index: 1;}#sk-container-id-1 div.sk-parallel {display: flex;align-items: stretch;justify-content: center;background-color: white;position: relative;}#sk-container-id-1 div.sk-item::before, #sk-container-id-1 div.sk-parallel-item::before {content: \"\";position: absolute;border-left: 1px solid gray;box-sizing: border-box;top: 0;bottom: 0;left: 50%;z-index: -1;}#sk-container-id-1 div.sk-parallel-item {display: flex;flex-direction: column;z-index: 1;position: relative;background-color: white;}#sk-container-id-1 div.sk-parallel-item:first-child::after {align-self: flex-end;width: 50%;}#sk-container-id-1 div.sk-parallel-item:last-child::after {align-self: flex-start;width: 50%;}#sk-container-id-1 div.sk-parallel-item:only-child::after {width: 0;}#sk-container-id-1 div.sk-dashed-wrapped {border: 1px dashed gray;margin: 0 0.4em 0.5em 0.4em;box-sizing: border-box;padding-bottom: 0.4em;background-color: white;}#sk-container-id-1 div.sk-label label {font-family: monospace;font-weight: bold;display: inline-block;line-height: 1.2em;}#sk-container-id-1 div.sk-label-container {text-align: center;}#sk-container-id-1 div.sk-container {/* jupyter's `normalize.less` sets `[hidden] { display: none; }` but bootstrap.min.css set `[hidden] { display: none !important; }` so we also need the `!important` here to be able to override the default hidden behavior on the sphinx rendered scikit-learn.org. See: https://github.com/scikit-learn/scikit-learn/issues/21755 */display: inline-block !important;position: relative;}#sk-container-id-1 div.sk-text-repr-fallback {display: none;}</style><div id=\"sk-container-id-1\" class=\"sk-top-container\"><div class=\"sk-text-repr-fallback\"><pre>TfidfVectorizer()</pre><b>In a Jupyter environment, please rerun this cell to show the HTML representation or trust the notebook. <br />On GitHub, the HTML representation is unable to render, please try loading this page with nbviewer.org.</b></div><div class=\"sk-container\" hidden><div class=\"sk-item\"><div class=\"sk-estimator sk-toggleable\"><input class=\"sk-toggleable__control sk-hidden--visually\" id=\"sk-estimator-id-1\" type=\"checkbox\" checked><label for=\"sk-estimator-id-1\" class=\"sk-toggleable__label sk-toggleable__label-arrow\">TfidfVectorizer</label><div class=\"sk-toggleable__content\"><pre>TfidfVectorizer()</pre></div></div></div></div></div>"
      ],
      "text/plain": [
       "TfidfVectorizer()"
      ]
     },
     "execution_count": 4,
     "metadata": {},
     "output_type": "execute_result"
    }
   ],
   "source": [
    "corpus = df['text1'].tolist() + df['text2'].tolist()\n",
    "vectorizer.fit(corpus)"
   ]
  },
  {
   "cell_type": "code",
   "execution_count": 5,
   "metadata": {},
   "outputs": [],
   "source": [
    "tfidf1 = vectorizer.transform(df['text1'])\n",
    "tfidf2 = vectorizer.transform(df['text2'])"
   ]
  },
  {
   "cell_type": "code",
   "execution_count": 6,
   "metadata": {},
   "outputs": [],
   "source": [
    "similarity_scores = cosine_similarity(tfidf1, tfidf2).diagonal()"
   ]
  },
  {
   "cell_type": "code",
   "execution_count": 7,
   "metadata": {},
   "outputs": [
    {
     "data": {
      "text/html": [
       "<div>\n",
       "<style scoped>\n",
       "    .dataframe tbody tr th:only-of-type {\n",
       "        vertical-align: middle;\n",
       "    }\n",
       "\n",
       "    .dataframe tbody tr th {\n",
       "        vertical-align: top;\n",
       "    }\n",
       "\n",
       "    .dataframe thead th {\n",
       "        text-align: right;\n",
       "    }\n",
       "</style>\n",
       "<table border=\"1\" class=\"dataframe\">\n",
       "  <thead>\n",
       "    <tr style=\"text-align: right;\">\n",
       "      <th></th>\n",
       "      <th>text1</th>\n",
       "      <th>text2</th>\n",
       "      <th>similarity_score</th>\n",
       "    </tr>\n",
       "  </thead>\n",
       "  <tbody>\n",
       "    <tr>\n",
       "      <th>0</th>\n",
       "      <td>broadband challenges tv viewing the number of ...</td>\n",
       "      <td>gardener wins double in glasgow britain s jaso...</td>\n",
       "      <td>0.185374</td>\n",
       "    </tr>\n",
       "    <tr>\n",
       "      <th>1</th>\n",
       "      <td>rap boss arrested over drug find rap mogul mar...</td>\n",
       "      <td>amnesty chief laments war failure the lack of ...</td>\n",
       "      <td>0.066526</td>\n",
       "    </tr>\n",
       "    <tr>\n",
       "      <th>2</th>\n",
       "      <td>player burn-out worries robinson england coach...</td>\n",
       "      <td>hanks greeted at wintry premiere hollywood sta...</td>\n",
       "      <td>0.086851</td>\n",
       "    </tr>\n",
       "    <tr>\n",
       "      <th>3</th>\n",
       "      <td>hearts of oak 3-2 cotonsport hearts of oak set...</td>\n",
       "      <td>redford s vision of sundance despite sporting ...</td>\n",
       "      <td>0.123677</td>\n",
       "    </tr>\n",
       "    <tr>\n",
       "      <th>4</th>\n",
       "      <td>sir paul rocks super bowl crowds sir paul mcca...</td>\n",
       "      <td>mauresmo opens with victory in la amelie maure...</td>\n",
       "      <td>0.102747</td>\n",
       "    </tr>\n",
       "  </tbody>\n",
       "</table>\n",
       "</div>"
      ],
      "text/plain": [
       "                                               text1   \n",
       "0  broadband challenges tv viewing the number of ...  \\\n",
       "1  rap boss arrested over drug find rap mogul mar...   \n",
       "2  player burn-out worries robinson england coach...   \n",
       "3  hearts of oak 3-2 cotonsport hearts of oak set...   \n",
       "4  sir paul rocks super bowl crowds sir paul mcca...   \n",
       "\n",
       "                                               text2  similarity_score  \n",
       "0  gardener wins double in glasgow britain s jaso...          0.185374  \n",
       "1  amnesty chief laments war failure the lack of ...          0.066526  \n",
       "2  hanks greeted at wintry premiere hollywood sta...          0.086851  \n",
       "3  redford s vision of sundance despite sporting ...          0.123677  \n",
       "4  mauresmo opens with victory in la amelie maure...          0.102747  "
      ]
     },
     "execution_count": 7,
     "metadata": {},
     "output_type": "execute_result"
    }
   ],
   "source": [
    "df['similarity_score'] = similarity_scores\n",
    "df.head(5)"
   ]
  },
  {
   "cell_type": "code",
   "execution_count": 8,
   "metadata": {},
   "outputs": [
    {
     "name": "stdout",
     "output_type": "stream",
     "text": [
      "Similarity score: 0.15\n"
     ]
    }
   ],
   "source": [
    "from sklearn.metrics.pairwise import cosine_similarity\n",
    "\n",
    "# Preprocess the input texts\n",
    "input_text1 = \"playstation 3 processor unveiled the cell processor  which will drive sony s playstation 3  will run 10-times faster than current pc chips  its designers have said.  sony  ibm and toshiba  who have been working on the cell processor for three years  unveiled the chip on monday. it is being designed for use in graphics workstations  the new playstation console  and has been described as a supercomputer on a chip. the chip will run at speeds of greater than 4 ghz  the firms said. by comparison  rival chip maker intel s fastest processor runs at 3.8 ghz. details of the chip were released at the international solid state circuits conference in san francisco. the new processor is set to ignite a fresh battle between intel and the cell consortium over which processor sits at the centre of digital products. the playstation 3 is expected in 2006  while toshiba plans to incorporate it into high-end televisions next year. ibm has said it will sell a workstation with the chip starting later this year.  cell is comprised of several computing engines  or cores. a core based on ibm s power architecture controls eight  synergistic  processing centres. in all  they can simultaneously carry out 10 instruction sequences  compared with two for current intel chips.  later this year  intel and advanced micro devices plan to release their own  multicore  chips  which also increase the number of instructions that can be executed at once. the cell s specifications suggest the playstation 3 will offer a significant boost in graphics capabilities but analysts cautioned that not all the features in a product announcement will find their way into systems.  any new technology like this has two components   said steve kleynhans  an analyst with meta group. he said:  it has the vision of what it could be because you need the big vision to sell it.  then there s the reality of how it s really going to be used  which generally is several levels down the chain from there.   while the playstation 3 is likely to be the first mass-market product to use cell  the chip s designers have said the flexible architecture means that it would be useful for a wide range of applications  from servers to mobile phones. initial devices are unlikely to be any smaller than a games console  however  because the first version of the cell will run hot enough to need a cooling fan. and while marketing speak describes the chip as a  supercomputer  - it remains significantly slower than the slowest computer on the list of the world s top 500 supercomputers. ibm said cell was  os neutral  and would support multiple operating systems simultaneously but designers would not confirm if microsoft s windows was among those tested with the chip. if cell is to challenge intel s range of chips in the marketplace  it will need to find itself inside pcs  which predominantly run using windows.\"\n",
    "input_text2 = \"search wars hit desktop pcs another front in the on-going battle between microsoft and google is about to be opened.  by the end of 2004 microsoft aims to launch search software to find any kind of file on a pc hard drive. the move is in answer to google s release of its own search tool that catalogues data on desktop pcs. the desktop search market is becoming increasingly crowded as google  aol  yahoo and many smaller firms tout programs that help people find files.  microsoft made the announcement about its forthcoming search software during a call to financial analysts to talk about its first quarter results. john connors  microsoft s chief financial officer said a test version of its desktop search software should be available for download by the end of the year.   we re going to have a heck of a great race in search between google  microsoft and yahoo   he said.  it s going to be really fun to follow.  microsoft is coming late to the desktop search arena and its software will have to compare favourably with programs from a large number of rivals  many of which have fiercely dedicated populations of users. the program could be based on the software microsoft owns as a result of its purchase of lookout software in early october. on 14 october google released desktop search software that catalogues all the files on a pc and lets users use one tool to find e-mail messages  spreadsheets  text files and presentations. the software will also find webpages and messages sent via aol instant messenger.  many other firms have released desktop search systems recently too. companies such as blinkx  copernic  enfish x1 technologies and x-friend all do the same job of cataloguing the huge amounts of information that people increasingly store on their desktop or home computer.  apple has also debuted a similar search system for its computers called spotlight that is due to debut with the release of the tiger operating system. due to follow are net giants aol and yahoo. the latter recently bought stata labs to get its hands on search software that people can use. microsoft is also reputedly working on a novel search system for the next version of windows (codenamed longhorn). however this is not likely to appear until 2006.  the recent activity in the search industry shows that there is a need to move beyond simple keyword-based web search   said kathy rittweger  co-founder of blinkx.  finding information of our own computers is becoming as difficult as it is to find the relevant webpage amongst the billions that exist.   desktop search has become important for several reasons. according to research by message analysts the radicati group up to 45% of the information critical to keeping many businesses running sits in e-mail messages and attachments. jf sullivan  spokesman for e-mail software firm sendmail said many organisations were starting to realise how important messaging was to their organisation and the way the work.  the key thing is being able to manage all this information   he said. also search is increasingly key to the way that people get around the internet. many people use a search engine as the first page they go to when getting on the net. many others use desktop toolbars that let them search for information no matter what other program they are using. having a tool on a desktop can be a lucrative way to control where people go online. for companies such as google which relies on revenue from adverts this knowledge about what people are looking for is worth huge amounts of money. but this invasiveness has already led some to ask about the privacy implications of such tools.\"\n",
    "input_text1_vector = vectorizer.transform([input_text1])\n",
    "input_text2_vector = vectorizer.transform([input_text2])\n",
    "\n",
    "# Calculate the cosine similarity between the two input text vectors\n",
    "similarity_score = cosine_similarity(input_text1_vector, input_text2_vector)[0][0]\n",
    "\n",
    "print(f\"Similarity score: {similarity_score:.2f}\")\n"
   ]
  },
  {
   "cell_type": "code",
   "execution_count": 9,
   "metadata": {},
   "outputs": [],
   "source": [
    "from sklearn.feature_extraction.text import TfidfVectorizer\n",
    "from sklearn.ensemble import RandomForestRegressor\n",
    "from sklearn.model_selection import train_test_split\n",
    "\n",
    "# Load and preprocess your dataset from a CSV file\n",
    "data = df\n",
    "paragraphs1 = data['text1']\n",
    "paragraphs2 = data['text2']\n",
    "similarity_scores = data['similarity_score']\n",
    "\n"
   ]
  },
  {
   "cell_type": "code",
   "execution_count": 10,
   "metadata": {},
   "outputs": [],
   "source": [
    "# Convert the paragraphs into numerical representations using TF-IDF\n",
    "vectorizer = TfidfVectorizer()\n",
    "paragraphs1_vectors = vectorizer.fit_transform(paragraphs1)\n",
    "paragraphs2_vectors = vectorizer.transform(paragraphs2)\n",
    "\n"
   ]
  },
  {
   "cell_type": "code",
   "execution_count": 11,
   "metadata": {},
   "outputs": [],
   "source": [
    "\n",
    "# Concatenate the paragraph vectors to create the input features for the model\n",
    "X = np.hstack([paragraphs1_vectors.toarray(), paragraphs2_vectors.toarray()])\n",
    "y = np.array(similarity_scores)"
   ]
  },
  {
   "cell_type": "code",
   "execution_count": 12,
   "metadata": {},
   "outputs": [],
   "source": [
    "# Split the data into training and validation sets\n",
    "X_train, X_val, y_train, y_val = train_test_split(X, y, test_size=0.2)"
   ]
  },
  {
   "cell_type": "code",
   "execution_count": 13,
   "metadata": {},
   "outputs": [
    {
     "data": {
      "text/html": [
       "<style>#sk-container-id-2 {color: black;}#sk-container-id-2 pre{padding: 0;}#sk-container-id-2 div.sk-toggleable {background-color: white;}#sk-container-id-2 label.sk-toggleable__label {cursor: pointer;display: block;width: 100%;margin-bottom: 0;padding: 0.3em;box-sizing: border-box;text-align: center;}#sk-container-id-2 label.sk-toggleable__label-arrow:before {content: \"▸\";float: left;margin-right: 0.25em;color: #696969;}#sk-container-id-2 label.sk-toggleable__label-arrow:hover:before {color: black;}#sk-container-id-2 div.sk-estimator:hover label.sk-toggleable__label-arrow:before {color: black;}#sk-container-id-2 div.sk-toggleable__content {max-height: 0;max-width: 0;overflow: hidden;text-align: left;background-color: #f0f8ff;}#sk-container-id-2 div.sk-toggleable__content pre {margin: 0.2em;color: black;border-radius: 0.25em;background-color: #f0f8ff;}#sk-container-id-2 input.sk-toggleable__control:checked~div.sk-toggleable__content {max-height: 200px;max-width: 100%;overflow: auto;}#sk-container-id-2 input.sk-toggleable__control:checked~label.sk-toggleable__label-arrow:before {content: \"▾\";}#sk-container-id-2 div.sk-estimator input.sk-toggleable__control:checked~label.sk-toggleable__label {background-color: #d4ebff;}#sk-container-id-2 div.sk-label input.sk-toggleable__control:checked~label.sk-toggleable__label {background-color: #d4ebff;}#sk-container-id-2 input.sk-hidden--visually {border: 0;clip: rect(1px 1px 1px 1px);clip: rect(1px, 1px, 1px, 1px);height: 1px;margin: -1px;overflow: hidden;padding: 0;position: absolute;width: 1px;}#sk-container-id-2 div.sk-estimator {font-family: monospace;background-color: #f0f8ff;border: 1px dotted black;border-radius: 0.25em;box-sizing: border-box;margin-bottom: 0.5em;}#sk-container-id-2 div.sk-estimator:hover {background-color: #d4ebff;}#sk-container-id-2 div.sk-parallel-item::after {content: \"\";width: 100%;border-bottom: 1px solid gray;flex-grow: 1;}#sk-container-id-2 div.sk-label:hover label.sk-toggleable__label {background-color: #d4ebff;}#sk-container-id-2 div.sk-serial::before {content: \"\";position: absolute;border-left: 1px solid gray;box-sizing: border-box;top: 0;bottom: 0;left: 50%;z-index: 0;}#sk-container-id-2 div.sk-serial {display: flex;flex-direction: column;align-items: center;background-color: white;padding-right: 0.2em;padding-left: 0.2em;position: relative;}#sk-container-id-2 div.sk-item {position: relative;z-index: 1;}#sk-container-id-2 div.sk-parallel {display: flex;align-items: stretch;justify-content: center;background-color: white;position: relative;}#sk-container-id-2 div.sk-item::before, #sk-container-id-2 div.sk-parallel-item::before {content: \"\";position: absolute;border-left: 1px solid gray;box-sizing: border-box;top: 0;bottom: 0;left: 50%;z-index: -1;}#sk-container-id-2 div.sk-parallel-item {display: flex;flex-direction: column;z-index: 1;position: relative;background-color: white;}#sk-container-id-2 div.sk-parallel-item:first-child::after {align-self: flex-end;width: 50%;}#sk-container-id-2 div.sk-parallel-item:last-child::after {align-self: flex-start;width: 50%;}#sk-container-id-2 div.sk-parallel-item:only-child::after {width: 0;}#sk-container-id-2 div.sk-dashed-wrapped {border: 1px dashed gray;margin: 0 0.4em 0.5em 0.4em;box-sizing: border-box;padding-bottom: 0.4em;background-color: white;}#sk-container-id-2 div.sk-label label {font-family: monospace;font-weight: bold;display: inline-block;line-height: 1.2em;}#sk-container-id-2 div.sk-label-container {text-align: center;}#sk-container-id-2 div.sk-container {/* jupyter's `normalize.less` sets `[hidden] { display: none; }` but bootstrap.min.css set `[hidden] { display: none !important; }` so we also need the `!important` here to be able to override the default hidden behavior on the sphinx rendered scikit-learn.org. See: https://github.com/scikit-learn/scikit-learn/issues/21755 */display: inline-block !important;position: relative;}#sk-container-id-2 div.sk-text-repr-fallback {display: none;}</style><div id=\"sk-container-id-2\" class=\"sk-top-container\"><div class=\"sk-text-repr-fallback\"><pre>RandomForestRegressor()</pre><b>In a Jupyter environment, please rerun this cell to show the HTML representation or trust the notebook. <br />On GitHub, the HTML representation is unable to render, please try loading this page with nbviewer.org.</b></div><div class=\"sk-container\" hidden><div class=\"sk-item\"><div class=\"sk-estimator sk-toggleable\"><input class=\"sk-toggleable__control sk-hidden--visually\" id=\"sk-estimator-id-2\" type=\"checkbox\" checked><label for=\"sk-estimator-id-2\" class=\"sk-toggleable__label sk-toggleable__label-arrow\">RandomForestRegressor</label><div class=\"sk-toggleable__content\"><pre>RandomForestRegressor()</pre></div></div></div></div></div>"
      ],
      "text/plain": [
       "RandomForestRegressor()"
      ]
     },
     "execution_count": 13,
     "metadata": {},
     "output_type": "execute_result"
    }
   ],
   "source": [
    "# Create a random forest regressor model\n",
    "model = RandomForestRegressor()\n",
    "# Train the model on the training data\n",
    "model.fit(X_train, y_train)"
   ]
  },
  {
   "cell_type": "code",
   "execution_count": 17,
   "metadata": {},
   "outputs": [
    {
     "name": "stdout",
     "output_type": "stream",
     "text": [
      "Validation MSE: 0.0008533071806499182\n"
     ]
    }
   ],
   "source": [
    "# Evaluate the model on the validation data\n",
    "val_predictions = model.predict(X_val)\n",
    "val_mse = np.mean((val_predictions - y_val) ** 2)\n",
    "print(f\"Validation MSE: {val_mse}\")"
   ]
  },
  {
   "cell_type": "code",
   "execution_count": 21,
   "metadata": {},
   "outputs": [],
   "source": [
    "# Define a function that takes two text inputs and returns a similarity score\n",
    "def predict_similarity(text1, text2):\n",
    "    # Convert the input texts into numerical representations using TF-IDF\n",
    "    text1_vector = vectorizer.transform([text1])\n",
    "    text2_vector = vectorizer.transform([text2])\n",
    "\n",
    "    # Concatenate the text vectors to create the input features for the model\n",
    "    X = np.hstack([text1_vector.toarray(), text2_vector.toarray()])\n",
    "\n",
    "    # Use the trained model to predict the similarity score between the input texts\n",
    "    similarity_score = model.predict(X)\n",
    "    return similarity_score[0]\n",
    "\n",
    "\n"
   ]
  },
  {
   "cell_type": "code",
   "execution_count": 22,
   "metadata": {},
   "outputs": [
    {
     "name": "stdout",
     "output_type": "stream",
     "text": [
      "Similarity score: 0.1270282080263711\n"
     ]
    }
   ],
   "source": [
    "# Example usage of the predict_similarity function\n",
    "text1 =\"security warning over  fbi virus  the us federal bureau of investigation is warning that a computer virus is being spread via e-mails that purport to be from the fbi.  the e-mails show that they have come from an fbi.gov address and tell recipients that they have accessed illegal websites. the messages warn that their internet use has been monitored by the fbi s internet fraud complaint center. an attachment in the e-mail contains the virus  the fbi said. the message asks recipients to click on the attachment and answer some questions about their internet use. but rather than being a questionnaire  the attachment contains a virus that infects the recipient s computer  according to the agency. it is not clear what the virus does once it has infected a computer. users are warned never to open attachment from unsolicited e-mails or from people they do not know.   recipients of this or similar solicitations should know that the fbi does not engage in the practice of sending unsolicited e-mails to the public in this manner   the fbi said in a statement. the bureau is investigating the phoney e-mails. the agency earlier this month shut down fbi.gov accounts  used to communicate with the public  because of a security breach. a spokeswoman said the two incidents appear to be unrelated.\"\n",
    "text2 = \"man utd to open books to glazer manchester united s board has agreed to give us tycoon malcolm glazer access to its books.  earlier this month  mr glazer presented the board with detailed proposals on an offer to buy the football club. in a statement  the club said it would allow mr glazer  limited due diligence  to give him the opportunity to take the proposal on to a formal bid. but it said it continued to oppose mr glazer s plans  calling his assumptions  aggressive  and his plan  damaging . many of manchester united s supporters own shares in the club  and the fan-based group shareholders united is strongly opposed to any takeover by mr glazer. about 300 fans protested outside the old trafford ground two days ago.  rival local club manchester city has pleaded with visiting fans not to protest inside its ground when the two teams play a televised match on sunday.  manchester united s response comes as little surprise  as the board made clear.  any board has a responsibility to consider a bona fide offer proposal   the club said in its statement. should it become a firm offer  it should be at a price that  the board is likely to regard as fair  and on terms which  may be deliverable . but it also stressed that it stayed opposed to mr glazer s proposal.  the board continues to believe that mr glazer s business plan assumptions are aggressive   the statement said   and the direct and indirect financial strain on the business could be damaging.  whether or not the bid is attractive in monetary terms  in the case of manchester united many investors hold the stock for sentimental rather than financial reasons. at present  mr glazer and his family hold a 28.1% stake  making them manchester united s second biggest shareholders. they own the successful tampa bay buccaneers american football team based in florida. if the family makes a formal offer  they will need the support of the club s biggest shareholders.  irish horse racing millionaires jp mcmanus and john magnier own 29% of united through their investment vehicle cubic expression  and have yet to express a view on the bid approach.  a group of five mps are calling on the department of trade and industry to block any takeover of the club by the us football magnate on public interest grounds. they have signed a house of commons motion  and tony lloyd  the manchester central mp  whose constituency includes the club s old trafford ground  has pledged to take the matter  to tony blair if necessary . the commons motion says  any takeover designed to transform the club into a private company would be against the interests of those supporters and football . however  the dti has dismissed the proposal. a spokesman said the department did not believe there was a case for changing the enterprise act so that takeovers of football clubs could be looked at on non-competition grounds. mr glazer s offer values the club at Â£800m ($1.5bn). pitched at 300p per share  it also relies less on debt to finance it than an earlier approach from the us tycoon  which was rejected out of hand. manchester united shares closed at 270.25p on friday  down 3.75p on the day.\"\n",
    "similarity_score = predict_similarity(text1, text2)\n",
    "print(f\"Similarity score: {similarity_score}\")"
   ]
  },
  {
   "cell_type": "code",
   "execution_count": 23,
   "metadata": {},
   "outputs": [
    {
     "data": {
      "text/plain": [
       "['./precily.joblib']"
      ]
     },
     "execution_count": 23,
     "metadata": {},
     "output_type": "execute_result"
    }
   ],
   "source": [
    "from joblib import dump\n",
    "dump(model, './precily.joblib')\n",
    "dump(vectorizer, './vectorizer.joblib')\n"
   ]
  }
 ],
 "metadata": {
  "kernelspec": {
   "display_name": "Python 3",
   "language": "python",
   "name": "python3"
  },
  "language_info": {
   "codemirror_mode": {
    "name": "ipython",
    "version": 3
   },
   "file_extension": ".py",
   "mimetype": "text/x-python",
   "name": "python",
   "nbconvert_exporter": "python",
   "pygments_lexer": "ipython3",
   "version": "3.11.3"
  },
  "orig_nbformat": 4
 },
 "nbformat": 4,
 "nbformat_minor": 2
}
